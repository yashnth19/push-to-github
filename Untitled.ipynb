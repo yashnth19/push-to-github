{
 "cells": [
  {
   "cell_type": "code",
   "execution_count": 1,
   "id": "69e505e4",
   "metadata": {},
   "outputs": [],
   "source": [
    "from flask import Flask, render_template, request,jsonify\n",
    "from flask_cors import CORS,cross_origin\n",
    "import requests\n",
    "from bs4 import BeautifulSoup as bs\n",
    "from urllib.request import urlopen as uReq"
   ]
  },
  {
   "cell_type": "code",
   "execution_count": 1,
   "id": "38fda5a2",
   "metadata": {},
   "outputs": [
    {
     "ename": "SyntaxError",
     "evalue": "invalid syntax (<ipython-input-1-95ff904916bb>, line 1)",
     "output_type": "error",
     "traceback": [
      "\u001b[1;36m  File \u001b[1;32m\"<ipython-input-1-95ff904916bb>\"\u001b[1;36m, line \u001b[1;32m1\u001b[0m\n\u001b[1;33m    heroku cli maps the local pC to cloud. qorks like a bridge.\u001b[0m\n\u001b[1;37m           ^\u001b[0m\n\u001b[1;31mSyntaxError\u001b[0m\u001b[1;31m:\u001b[0m invalid syntax\n"
     ]
    }
   ],
   "source": [
    "heroku cli maps the local pC to cloud. qorks like a bridge.\n",
    "command loke interface to interact witrh heroku\n",
    "\n",
    "pip install GitPython @1:22\n",
    "    "
   ]
  },
  {
   "cell_type": "code",
   "execution_count": 2,
   "id": "0e520848",
   "metadata": {},
   "outputs": [],
   "source": [
    "# heroku cloud is free till 500mb. but internsips you must use either or all of aws, azure and Google collab."
   ]
  },
  {
   "cell_type": "code",
   "execution_count": null,
   "id": "3c863354",
   "metadata": {},
   "outputs": [],
   "source": [
    "pushing code to github 3:39\n",
    "    "
   ]
  }
 ],
 "metadata": {
  "kernelspec": {
   "display_name": "Python 3",
   "language": "python",
   "name": "python3"
  },
  "language_info": {
   "codemirror_mode": {
    "name": "ipython",
    "version": 3
   },
   "file_extension": ".py",
   "mimetype": "text/x-python",
   "name": "python",
   "nbconvert_exporter": "python",
   "pygments_lexer": "ipython3",
   "version": "3.8.8"
  }
 },
 "nbformat": 4,
 "nbformat_minor": 5
}
